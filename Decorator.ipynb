{
 "cells": [
  {
   "cell_type": "markdown",
   "metadata": {},
   "source": [
    "# НЕ ПОНИМАЮ КАК ДЕЛАТЬ\n",
    "# ПОКАЗЫВАЮ ЧТО ПОНЯЛ ДЕКОРАТОР"
   ]
  },
  {
   "cell_type": "code",
   "execution_count": 1,
   "metadata": {},
   "outputs": [
    {
     "name": "stdout",
     "output_type": "stream",
     "text": [
      "Код до выполнения\n",
      "Я обычная функция\n",
      "Код после\n"
     ]
    }
   ],
   "source": [
    "\n",
    "def decorator(func):\n",
    "    def young():\n",
    "        print(\"Код до выполнения\")\n",
    "        func()\n",
    "        print(\"Код после\")\n",
    "    return young\n",
    "\n",
    "def test(func):\n",
    "    def young():\n",
    "        print(\"Код до выполнения\")\n",
    "        func()\n",
    "        print(\"Код после\")\n",
    "    return young\n",
    "@decorator\n",
    "def show():\n",
    "    print(\"Я обычная функция\")\n",
    "    \n",
    "show()\n"
   ]
  }
 ],
 "metadata": {
  "kernelspec": {
   "display_name": "Python 3",
   "language": "python",
   "name": "python3"
  },
  "language_info": {
   "codemirror_mode": {
    "name": "ipython",
    "version": 3
   },
   "file_extension": ".py",
   "mimetype": "text/x-python",
   "name": "python",
   "nbconvert_exporter": "python",
   "pygments_lexer": "ipython3",
   "version": "3.7.3"
  }
 },
 "nbformat": 4,
 "nbformat_minor": 2
}
